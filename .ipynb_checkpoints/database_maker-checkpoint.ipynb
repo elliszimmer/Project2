{
 "cells": [
  {
   "cell_type": "code",
   "execution_count": null,
   "id": "e44c9fbb",
   "metadata": {},
   "outputs": [],
   "source": [
    "import pandas as pd\n",
    "\n",
    "# 1. Read the CSV file into a DataFrame\n",
    "df = pd.read_csv('/path_to_directory/your_file.csv')\n",
    "\n",
    "# 2. Delete some columns; let's say you want to delete columns named 'col_to_delete1' and 'col_to_delete2'\n",
    "df = df.drop(columns=['col_to_delete1', 'col_to_delete2'])\n",
    "\n",
    "# 3. Rename some columns; let's say you want to rename 'old_col1' to 'new_col1' and 'old_col2' to 'new_col2'\n",
    "df = df.rename(columns={'old_col1': 'new_col1', 'old_col2': 'new_col2'})\n",
    "\n",
    "# 4. Convert the DataFrame to a dictionary\n",
    "data_dict = df.to_dict(orient='records')\n",
    "\n",
    "# Print the resulting dictionary to verify\n",
    "print(data_dict)"
   ]
  }
 ],
 "metadata": {
  "kernelspec": {
   "display_name": "Python 3 (ipykernel)",
   "language": "python",
   "name": "python3"
  },
  "language_info": {
   "codemirror_mode": {
    "name": "ipython",
    "version": 3
   },
   "file_extension": ".py",
   "mimetype": "text/x-python",
   "name": "python",
   "nbconvert_exporter": "python",
   "pygments_lexer": "ipython3",
   "version": "3.11.3"
  }
 },
 "nbformat": 4,
 "nbformat_minor": 5
}
