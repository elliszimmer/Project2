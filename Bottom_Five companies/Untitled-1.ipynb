{
 "cells": [
  {
   "cell_type": "code",
   "execution_count": 18,
   "metadata": {},
   "outputs": [],
   "source": [
    "import pandas as pd\n",
    "import yfinance as yf\n",
    "from yahoofinancials import YahooFinancials\n",
    "import datetime\n",
    "import os"
   ]
  },
  {
   "cell_type": "code",
   "execution_count": 19,
   "metadata": {},
   "outputs": [],
   "source": [
    "\n",
    "\n",
    "startDate_2018 = datetime.datetime(2018, 1, 1)\n",
    "endDate_2018 = datetime.datetime(2018, 12, 31)\n",
    "\n",
    "startDate_2019 = datetime.datetime(2019, 1, 1)\n",
    "endDate_2019 = datetime.datetime(2019, 12, 31)\n",
    "\n",
    "startDate_2020 = datetime.datetime(2020, 1, 1)\n",
    "endDate_2020 = datetime.datetime(2020, 12, 31)\n",
    "\n",
    "startDate_2021 = datetime.datetime(2021, 1, 1)\n",
    "endDate_2021 = datetime.datetime(2021, 12, 31)\n",
    "\n",
    "startDate_2022 = datetime.datetime(2022, 1, 1)\n",
    "endDate_2022 = datetime.datetime(2022, 12, 31)\n",
    "\n",
    "startDate_2023 = datetime.datetime(2023, 1, 1)\n",
    "endDate_2023 = datetime.datetime(2023, 12, 31)\n",
    "interval = \"1mo\"\n"
   ]
  },
  {
   "cell_type": "code",
   "execution_count": 20,
   "metadata": {},
   "outputs": [
    {
     "name": "stdout",
     "output_type": "stream",
     "text": [
      "[*********************100%%**********************]  1 of 1 completed\n",
      "[*********************100%%**********************]  1 of 1 completed\n",
      "[*********************100%%**********************]  1 of 1 completed\n",
      "[*********************100%%**********************]  1 of 1 completed\n",
      "[*********************100%%**********************]  1 of 1 completed\n",
      "[*********************100%%**********************]  1 of 1 completed\n"
     ]
    }
   ],
   "source": [
    "DXC_2018 = yf.download(\"DXC\", start=startDate_2018, end=endDate_2018, interval=interval)\n",
    "DXC_2019 = yf.download(\"DXC\", start=startDate_2019, end=endDate_2019, interval=interval)\n",
    "DXC_2020 = yf.download(\"DXC\", start=startDate_2020, end=endDate_2020, interval=interval)\n",
    "DXC_2021 = yf.download(\"DXC\", start=startDate_2021, end=endDate_2021, interval=interval)\n",
    "DXC_2022 = yf.download(\"DXC\", start=startDate_2022, end=endDate_2022, interval=interval)\n",
    "DXC_2023 = yf.download(\"DXC\", start=startDate_2023, end=endDate_2023, interval=interval)\n"
   ]
  },
  {
   "cell_type": "code",
   "execution_count": 21,
   "metadata": {},
   "outputs": [],
   "source": [
    "os.makedirs(r'C:\\Users\\uwagb\\OneDrive\\Desktop\\project 3\\Bottom_Five companies', exist_ok=True) \n",
    "DXC_2018.to_csv(r\"C:\\Users\\uwagb\\OneDrive\\Desktop\\project 3\\Bottom_Five companies\\DXC_2018.csv\")\n",
    "DXC_2019.to_csv(r\"C:\\Users\\uwagb\\OneDrive\\Desktop\\project 3\\Bottom_Five companies\\DXC_2019.csv\")\n",
    "DXC_2020.to_csv(r\"C:\\Users\\uwagb\\OneDrive\\Desktop\\project 3\\Bottom_Five companies\\DXC_2020.csv\")\n",
    "DXC_2021.to_csv(r\"C:\\Users\\uwagb\\OneDrive\\Desktop\\project 3\\Bottom_Five companies\\DXC_2021.csv\")\n",
    "DXC_2022.to_csv(r\"C:\\Users\\uwagb\\OneDrive\\Desktop\\project 3\\Bottom_Five companies\\DXC_2022.csv\")\n",
    "DXC_2023.to_csv(r\"C:\\Users\\uwagb\\OneDrive\\Desktop\\project 3\\Bottom_Five companies\\DXC_2023.csv\")\n"
   ]
  },
  {
   "cell_type": "code",
   "execution_count": 22,
   "metadata": {},
   "outputs": [
    {
     "name": "stdout",
     "output_type": "stream",
     "text": [
      "[*********************100%%**********************]  1 of 1 completed\n",
      "[*********************100%%**********************]  1 of 1 completed\n",
      "[*********************100%%**********************]  1 of 1 completed\n",
      "[*********************100%%**********************]  1 of 1 completed\n",
      "[*********************100%%**********************]  1 of 1 completed\n",
      "[*********************100%%**********************]  1 of 1 completed\n"
     ]
    }
   ],
   "source": [
    "FFIV_2018 = yf.download(\"FFIV\", start=startDate_2018, end=endDate_2018, interval=interval)\n",
    "FFIV_2019 = yf.download(\"FFIV\", start=startDate_2019, end=endDate_2019, interval=interval)\n",
    "FFIV_2020 = yf.download(\"FFIV\", start=startDate_2020, end=endDate_2020, interval=interval)\n",
    "FFIV_2021 = yf.download(\"FFIV\", start=startDate_2021, end=endDate_2021, interval=interval)\n",
    "FFIV_2022 = yf.download(\"FFIV\", start=startDate_2022, end=endDate_2022, interval=interval)\n",
    "FFIV_2023 = yf.download(\"FFIV\", start=startDate_2023, end=endDate_2023, interval=interval)"
   ]
  },
  {
   "cell_type": "code",
   "execution_count": 23,
   "metadata": {},
   "outputs": [],
   "source": [
    "FFIV_2018.to_csv(r\"C:\\Users\\uwagb\\OneDrive\\Desktop\\project 3\\Bottom_Five companies\\FFIV_2018.csv\")\n",
    "FFIV_2019.to_csv(r\"C:\\Users\\uwagb\\OneDrive\\Desktop\\project 3\\Bottom_Five companies\\FFIV_2019.csv\")\n",
    "FFIV_2020.to_csv(r\"C:\\Users\\uwagb\\OneDrive\\Desktop\\project 3\\Bottom_Five companies\\FFIV_2020.csv\")\n",
    "FFIV_2021.to_csv(r\"C:\\Users\\uwagb\\OneDrive\\Desktop\\project 3\\Bottom_Five companies\\FFIV_2021.csv\")\n",
    "FFIV_2022.to_csv(r\"C:\\Users\\uwagb\\OneDrive\\Desktop\\project 3\\Bottom_Five companies\\FFIV_2022.csv\")\n",
    "FFIV_2023.to_csv(r\"C:\\Users\\uwagb\\OneDrive\\Desktop\\project 3\\Bottom_Five companies\\FFIV_2023.csv\")"
   ]
  },
  {
   "cell_type": "code",
   "execution_count": 24,
   "metadata": {},
   "outputs": [
    {
     "name": "stdout",
     "output_type": "stream",
     "text": [
      "[*********************100%%**********************]  1 of 1 completed\n",
      "[*********************100%%**********************]  1 of 1 completed\n",
      "[*********************100%%**********************]  1 of 1 completed\n",
      "[*********************100%%**********************]  1 of 1 completed\n",
      "[*********************100%%**********************]  1 of 1 completed\n",
      "[*********************100%%**********************]  1 of 1 completed\n"
     ]
    }
   ],
   "source": [
    "SEDG_2018 = yf.download(\"SEDG\", start=startDate_2018, end=endDate_2018, interval=interval)\n",
    "SEDG_2019 = yf.download(\"SEDG\", start=startDate_2019, end=endDate_2019, interval=interval)\n",
    "SEDG_2020 = yf.download(\"SEDG\", start=startDate_2020, end=endDate_2020, interval=interval)\n",
    "SEDG_2021 = yf.download(\"SEDG\", start=startDate_2021, end=endDate_2021, interval=interval)\n",
    "SEDG_2022 = yf.download(\"SEDG\", start=startDate_2022, end=endDate_2022, interval=interval)\n",
    "SEDG_2023 = yf.download(\"SEDG\", start=startDate_2023, end=endDate_2023, interval=interval)"
   ]
  },
  {
   "cell_type": "code",
   "execution_count": 25,
   "metadata": {},
   "outputs": [],
   "source": [
    "SEDG_2018.to_csv(r\"C:\\Users\\uwagb\\OneDrive\\Desktop\\project 3\\Bottom_Five companies\\SEDG_2018.csv\")\n",
    "SEDG_2019.to_csv(r\"C:\\Users\\uwagb\\OneDrive\\Desktop\\project 3\\Bottom_Five companies\\SEDG_2019.csv\")\n",
    "SEDG_2020.to_csv(r\"C:\\Users\\uwagb\\OneDrive\\Desktop\\project 3\\Bottom_Five companies\\SEDG_2020.csv\")\n",
    "SEDG_2021.to_csv(r\"C:\\Users\\uwagb\\OneDrive\\Desktop\\project 3\\Bottom_Five companies\\SEDG_2021.csv\")\n",
    "SEDG_2022.to_csv(r\"C:\\Users\\uwagb\\OneDrive\\Desktop\\project 3\\Bottom_Five companies\\SEDG_2022.csv\")\n",
    "SEDG_2023.to_csv(r\"C:\\Users\\uwagb\\OneDrive\\Desktop\\project 3\\Bottom_Five companies\\SEDG_2023.csv\")"
   ]
  },
  {
   "cell_type": "code",
   "execution_count": 26,
   "metadata": {},
   "outputs": [
    {
     "name": "stdout",
     "output_type": "stream",
     "text": [
      "[*********************100%%**********************]  1 of 1 completed\n",
      "[*********************100%%**********************]  1 of 1 completed\n",
      "[*********************100%%**********************]  1 of 1 completed\n",
      "[*********************100%%**********************]  1 of 1 completed\n",
      "[*********************100%%**********************]  1 of 1 completed\n",
      "[*********************100%%**********************]  1 of 1 completed\n"
     ]
    }
   ],
   "source": [
    "CDAY_2018 = yf.download(\"CDAY\", start=startDate_2018, end=endDate_2018, interval=interval)\n",
    "CDAY_2019 = yf.download(\"CDAY\", start=startDate_2019, end=endDate_2019, interval=interval)\n",
    "CDAY_2020 = yf.download(\"CDAY\", start=startDate_2020, end=endDate_2020, interval=interval)\n",
    "CDAY_2021 = yf.download(\"CDAY\", start=startDate_2021, end=endDate_2021, interval=interval)\n",
    "CDAY_2022 = yf.download(\"CDAY\", start=startDate_2022, end=endDate_2022, interval=interval)\n",
    "CDAY_2023 = yf.download(\"CDAY\", start=startDate_2023, end=endDate_2023, interval=interval)"
   ]
  },
  {
   "cell_type": "code",
   "execution_count": 27,
   "metadata": {},
   "outputs": [],
   "source": [
    "CDAY_2018.to_csv(r\"C:\\Users\\uwagb\\OneDrive\\Desktop\\project 3\\Bottom_Five companies\\CDAY_2018.csv\")\n",
    "CDAY_2019.to_csv(r\"C:\\Users\\uwagb\\OneDrive\\Desktop\\project 3\\Bottom_Five companies\\CDAY_2019.csv\")\n",
    "CDAY_2020.to_csv(r\"C:\\Users\\uwagb\\OneDrive\\Desktop\\project 3\\Bottom_Five companies\\CDAY_2020.csv\")\n",
    "CDAY_2021.to_csv(r\"C:\\Users\\uwagb\\OneDrive\\Desktop\\project 3\\Bottom_Five companies\\CDAY_2021.csv\")\n",
    "CDAY_2022.to_csv(r\"C:\\Users\\uwagb\\OneDrive\\Desktop\\project 3\\Bottom_Five companies\\CDAY_2022.csv\")\n",
    "CDAY_2023.to_csv(r\"C:\\Users\\uwagb\\OneDrive\\Desktop\\project 3\\Bottom_Five companies\\CDAY_2023.csv\")"
   ]
  },
  {
   "cell_type": "code",
   "execution_count": 28,
   "metadata": {},
   "outputs": [
    {
     "name": "stdout",
     "output_type": "stream",
     "text": [
      "[*********************100%%**********************]  1 of 1 completed\n",
      "[*********************100%%**********************]  1 of 1 completed\n",
      "[*********************100%%**********************]  1 of 1 completed\n",
      "[*********************100%%**********************]  1 of 1 completed\n",
      "[*********************100%%**********************]  1 of 1 completed\n",
      "[*********************100%%**********************]  1 of 1 completed\n"
     ]
    }
   ],
   "source": [
    "QRVO_2018 = yf.download(\"QRVO\", start=startDate_2018, end=endDate_2018, interval=interval)\n",
    "QRVO_2019 = yf.download(\"QRVO\", start=startDate_2019, end=endDate_2019, interval=interval)\n",
    "QRVO_2020 = yf.download(\"QRVO\", start=startDate_2020, end=endDate_2020, interval=interval)\n",
    "QRVO_2021 = yf.download(\"QRVO\", start=startDate_2021, end=endDate_2021, interval=interval)\n",
    "QRVO_2022 = yf.download(\"QRVO\", start=startDate_2022, end=endDate_2022, interval=interval)\n",
    "QRVO_2023 = yf.download(\"QRVO\", start=startDate_2023, end=endDate_2023, interval=interval)"
   ]
  },
  {
   "cell_type": "code",
   "execution_count": 29,
   "metadata": {},
   "outputs": [],
   "source": [
    "QRVO_2018.to_csv(r\"C:\\Users\\uwagb\\OneDrive\\Desktop\\project 3\\Bottom_Five companies\\QRVO_2018.csv\")\n",
    "QRVO_2019.to_csv(r\"C:\\Users\\uwagb\\OneDrive\\Desktop\\project 3\\Bottom_Five companies\\QRVO_2019.csv\")\n",
    "QRVO_2020.to_csv(r\"C:\\Users\\uwagb\\OneDrive\\Desktop\\project 3\\Bottom_Five companies\\QRVO_2020.csv\")\n",
    "QRVO_2021.to_csv(r\"C:\\Users\\uwagb\\OneDrive\\Desktop\\project 3\\Bottom_Five companies\\QRVO_2021.csv\")\n",
    "QRVO_2022.to_csv(r\"C:\\Users\\uwagb\\OneDrive\\Desktop\\project 3\\Bottom_Five companies\\QRVO_2022.csv\")\n",
    "QRVO_2023.to_csv(r\"C:\\Users\\uwagb\\OneDrive\\Desktop\\project 3\\Bottom_Five companies\\QRVO_2023.csv\")"
   ]
  },
  {
   "cell_type": "code",
   "execution_count": 30,
   "metadata": {},
   "outputs": [
    {
     "data": {
      "text/html": [
       "<div>\n",
       "<style scoped>\n",
       "    .dataframe tbody tr th:only-of-type {\n",
       "        vertical-align: middle;\n",
       "    }\n",
       "\n",
       "    .dataframe tbody tr th {\n",
       "        vertical-align: top;\n",
       "    }\n",
       "\n",
       "    .dataframe thead th {\n",
       "        text-align: right;\n",
       "    }\n",
       "</style>\n",
       "<table border=\"1\" class=\"dataframe\">\n",
       "  <thead>\n",
       "    <tr style=\"text-align: right;\">\n",
       "      <th></th>\n",
       "      <th>Open</th>\n",
       "      <th>High</th>\n",
       "      <th>Low</th>\n",
       "      <th>Close</th>\n",
       "      <th>Adj Close</th>\n",
       "      <th>Volume</th>\n",
       "    </tr>\n",
       "    <tr>\n",
       "      <th>Date</th>\n",
       "      <th></th>\n",
       "      <th></th>\n",
       "      <th></th>\n",
       "      <th></th>\n",
       "      <th></th>\n",
       "      <th></th>\n",
       "    </tr>\n",
       "  </thead>\n",
       "  <tbody>\n",
       "    <tr>\n",
       "      <th>2023-01-01</th>\n",
       "      <td>92.589996</td>\n",
       "      <td>112.980003</td>\n",
       "      <td>89.029999</td>\n",
       "      <td>108.660004</td>\n",
       "      <td>108.660004</td>\n",
       "      <td>24088400</td>\n",
       "    </tr>\n",
       "    <tr>\n",
       "      <th>2023-02-01</th>\n",
       "      <td>109.260002</td>\n",
       "      <td>114.586998</td>\n",
       "      <td>99.260002</td>\n",
       "      <td>100.889999</td>\n",
       "      <td>100.889999</td>\n",
       "      <td>29971400</td>\n",
       "    </tr>\n",
       "    <tr>\n",
       "      <th>2023-03-01</th>\n",
       "      <td>101.089996</td>\n",
       "      <td>104.029999</td>\n",
       "      <td>92.379997</td>\n",
       "      <td>101.570000</td>\n",
       "      <td>101.570000</td>\n",
       "      <td>27946000</td>\n",
       "    </tr>\n",
       "    <tr>\n",
       "      <th>2023-04-01</th>\n",
       "      <td>100.599998</td>\n",
       "      <td>101.345001</td>\n",
       "      <td>87.790001</td>\n",
       "      <td>92.080002</td>\n",
       "      <td>92.080002</td>\n",
       "      <td>21048800</td>\n",
       "    </tr>\n",
       "    <tr>\n",
       "      <th>2023-05-01</th>\n",
       "      <td>91.900002</td>\n",
       "      <td>102.779999</td>\n",
       "      <td>89.220001</td>\n",
       "      <td>97.260002</td>\n",
       "      <td>97.260002</td>\n",
       "      <td>31692800</td>\n",
       "    </tr>\n",
       "    <tr>\n",
       "      <th>2023-06-01</th>\n",
       "      <td>98.000000</td>\n",
       "      <td>104.447998</td>\n",
       "      <td>95.059998</td>\n",
       "      <td>102.029999</td>\n",
       "      <td>102.029999</td>\n",
       "      <td>24086800</td>\n",
       "    </tr>\n",
       "    <tr>\n",
       "      <th>2023-07-01</th>\n",
       "      <td>102.029999</td>\n",
       "      <td>111.220001</td>\n",
       "      <td>96.059998</td>\n",
       "      <td>110.019997</td>\n",
       "      <td>110.019997</td>\n",
       "      <td>21899700</td>\n",
       "    </tr>\n",
       "    <tr>\n",
       "      <th>2023-08-01</th>\n",
       "      <td>108.970001</td>\n",
       "      <td>112.120003</td>\n",
       "      <td>96.739998</td>\n",
       "      <td>98.250000</td>\n",
       "      <td>98.250000</td>\n",
       "      <td>17366000</td>\n",
       "    </tr>\n",
       "  </tbody>\n",
       "</table>\n",
       "</div>"
      ],
      "text/plain": [
       "                  Open        High        Low       Close   Adj Close  \\\n",
       "Date                                                                    \n",
       "2023-01-01   92.589996  112.980003  89.029999  108.660004  108.660004   \n",
       "2023-02-01  109.260002  114.586998  99.260002  100.889999  100.889999   \n",
       "2023-03-01  101.089996  104.029999  92.379997  101.570000  101.570000   \n",
       "2023-04-01  100.599998  101.345001  87.790001   92.080002   92.080002   \n",
       "2023-05-01   91.900002  102.779999  89.220001   97.260002   97.260002   \n",
       "2023-06-01   98.000000  104.447998  95.059998  102.029999  102.029999   \n",
       "2023-07-01  102.029999  111.220001  96.059998  110.019997  110.019997   \n",
       "2023-08-01  108.970001  112.120003  96.739998   98.250000   98.250000   \n",
       "\n",
       "              Volume  \n",
       "Date                  \n",
       "2023-01-01  24088400  \n",
       "2023-02-01  29971400  \n",
       "2023-03-01  27946000  \n",
       "2023-04-01  21048800  \n",
       "2023-05-01  31692800  \n",
       "2023-06-01  24086800  \n",
       "2023-07-01  21899700  \n",
       "2023-08-01  17366000  "
      ]
     },
     "execution_count": 30,
     "metadata": {},
     "output_type": "execute_result"
    }
   ],
   "source": [
    "QRVO_2023"
   ]
  },
  {
   "cell_type": "code",
   "execution_count": null,
   "metadata": {},
   "outputs": [],
   "source": [
    "\n"
   ]
  },
  {
   "cell_type": "code",
   "execution_count": null,
   "metadata": {},
   "outputs": [],
   "source": []
  },
  {
   "cell_type": "code",
   "execution_count": null,
   "metadata": {},
   "outputs": [],
   "source": []
  }
 ],
 "metadata": {
  "kernelspec": {
   "display_name": "base",
   "language": "python",
   "name": "python3"
  },
  "language_info": {
   "codemirror_mode": {
    "name": "ipython",
    "version": 3
   },
   "file_extension": ".py",
   "mimetype": "text/x-python",
   "name": "python",
   "nbconvert_exporter": "python",
   "pygments_lexer": "ipython3",
   "version": "3.10.9"
  },
  "orig_nbformat": 4
 },
 "nbformat": 4,
 "nbformat_minor": 2
}
