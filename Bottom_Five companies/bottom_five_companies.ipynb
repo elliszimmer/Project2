{
 "cells": [
  {
   "cell_type": "code",
   "execution_count": 24,
   "metadata": {},
   "outputs": [],
   "source": [
    "import pandas as pd\n",
    "import yfinance as yf\n",
    "from yahoofinancials import YahooFinancials\n",
    "import datetime\n",
    "import os"
   ]
  },
  {
   "cell_type": "code",
   "execution_count": 25,
   "metadata": {},
   "outputs": [],
   "source": [
    "\n",
    "\n",
    "startDate = datetime.datetime(2018, 1, 1)\n",
    "endDate = datetime.datetime(2023, 8, 1)\n",
    "interval = \"1mo\"\n",
    "\n"
   ]
  },
  {
   "cell_type": "code",
   "execution_count": 26,
   "metadata": {},
   "outputs": [
    {
     "name": "stdout",
     "output_type": "stream",
     "text": [
      "[*********************100%%**********************]  1 of 1 completed\n",
      "[*********************100%%**********************]  1 of 1 completed\n",
      "[*********************100%%**********************]  1 of 1 completed\n",
      "[*********************100%%**********************]  1 of 1 completed\n",
      "[*********************100%%**********************]  1 of 1 completed\n"
     ]
    }
   ],
   "source": [
    "DXC_df = yf.download(\"DXC\", start=startDate, end=endDate, interval=interval)\n",
    "FFIV_df = yf.download(\"FFIV\", start=startDate, end=endDate, interval=interval)\n",
    "SEDG_df = yf.download(\"SEDG\", start=startDate, end=endDate, interval=interval)\n",
    "CDAY_df = yf.download(\"CDAY\", start=startDate, end=endDate, interval=interval)\n",
    "QRVO_df = yf.download(\"QRVO\", start=startDate, end=endDate, interval=interval)\n"
   ]
  },
  {
   "cell_type": "code",
   "execution_count": 27,
   "metadata": {},
   "outputs": [],
   "source": [
    "os.makedirs(r'C:\\Users\\uwagb\\OneDrive\\Desktop\\project 3\\Bottom_Five companies', exist_ok=True) \n",
    "DXC_df.to_csv(r\"C:\\Users\\uwagb\\OneDrive\\Desktop\\project 3\\Bottom_Five companies\\DXC.csv\")\n",
    "FFIV_df.to_csv(r\"C:\\Users\\uwagb\\OneDrive\\Desktop\\project 3\\Bottom_Five companies\\FFIV.csv\")\n",
    "SEDG_df.to_csv(r\"C:\\Users\\uwagb\\OneDrive\\Desktop\\project 3\\Bottom_Five companies\\SEDG.csv\")\n",
    "CDAY_df.to_csv(r\"C:\\Users\\uwagb\\OneDrive\\Desktop\\project 3\\Bottom_Five companies\\CDAY.csv\")\n",
    "QRVO_df.to_csv(r\"C:\\Users\\uwagb\\OneDrive\\Desktop\\project 3\\Bottom_Five companies\\QRVO.csv\")\n"
   ]
  },
  {
   "cell_type": "code",
   "execution_count": null,
   "metadata": {},
   "outputs": [],
   "source": [
    "\n"
   ]
  },
  {
   "cell_type": "code",
   "execution_count": null,
   "metadata": {},
   "outputs": [],
   "source": []
  },
  {
   "cell_type": "code",
   "execution_count": null,
   "metadata": {},
   "outputs": [],
   "source": []
  }
 ],
 "metadata": {
  "kernelspec": {
   "display_name": "base",
   "language": "python",
   "name": "python3"
  },
  "language_info": {
   "codemirror_mode": {
    "name": "ipython",
    "version": 3
   },
   "file_extension": ".py",
   "mimetype": "text/x-python",
   "name": "python",
   "nbconvert_exporter": "python",
   "pygments_lexer": "ipython3",
   "version": "3.10.9"
  },
  "orig_nbformat": 4
 },
 "nbformat": 4,
 "nbformat_minor": 2
}
